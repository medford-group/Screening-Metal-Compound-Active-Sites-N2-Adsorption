{
 "cells": [
  {
   "cell_type": "markdown",
   "metadata": {},
   "source": [
    "### Generate labels for energy table"
   ]
  },
  {
   "cell_type": "code",
   "execution_count": 25,
   "metadata": {},
   "outputs": [],
   "source": [
    "import pickle\n",
    "import numpy as np\n",
    "\n",
    "NRR_chem_list = [\n",
    "             ['N2_g'],\n",
    "             ['N2_s'],\n",
    "             ['N2H_s'],\n",
    "             ['N2H2_s'],\n",
    "             ['H2NNH_s'],\n",
    "             ['H2NNH2_s'],\n",
    "             ['NH2_s','NH3_s'],\n",
    "             ['2NH3_s'],\n",
    "             ['2NH3_g'],]\n",
    "         \n",
    "labels_NRR = ['N$_{2}$(g)',\n",
    " 'N$_{2}$*',\n",
    " 'N$_{2}$H*',\n",
    " 'N$_{2}$H$_{2}$*',\n",
    " 'H$_{2}$NNH*',\n",
    " 'H$_{2}$NNH$_{2}$*',\n",
    " 'NH$_{2}$* + NH$_{3}$*',\n",
    " '$_{2}$NH$_{3}$*',\n",
    " '$_{2}$NH$_{3}$(g)']\n",
    "              \n",
    "SI_ingredients = set()\n",
    "SI_labels = {}\n",
    "\n",
    "def flatten(l):\n",
    "    if type(l)!=list:\n",
    "        return l\n",
    "    elif len(l)==0:\n",
    "        return []\n",
    "    if type(l[0])!=list:\n",
    "        if l[0]=='CH2N2OH_s':\n",
    "            return ['CH2OHN2_s'] + flatten(l[1:])\n",
    "        else:\n",
    "            return [l[0]] + flatten(l[1:])\n",
    "    else:\n",
    "        return flatten(l[0]) + flatten(l[1:])\n",
    "    \n",
    "def to_latex_label(name):\n",
    "    if name =='CH2OHN2_s':\n",
    "        name = 'CH2N2OH_s'\n",
    "    for i in range(0,9):\n",
    "        name = name.replace(str(i), '$_{'+str(i)+'}$')\n",
    "    name = name.replace('_s', ' at top active site')\n",
    "    name = name.replace('_g', ' gas')\n",
    "    return name\n",
    "\n",
    "for list_of_list in NRR_chem_list:\n",
    "    l = flatten(list_of_list)\n",
    "    SI_ingredients = set.union(set(l),SI_ingredients)\n",
    "SI_ingredients.remove('2NH3_g')\n",
    "SI_ingredients.remove('N2_g')\n",
    "\n",
    "SI_ingredients.remove('2NH3_s')\n",
    "(sorted(SI_ingredients) )\n",
    "\n",
    "for label in SI_ingredients:\n",
    "    latex_label = to_latex_label(label)\n",
    "    SI_labels[label] = latex_label\n"
   ]
  },
  {
   "cell_type": "markdown",
   "metadata": {},
   "source": [
    "### SI energy table"
   ]
  },
  {
   "cell_type": "code",
   "execution_count": 26,
   "metadata": {},
   "outputs": [],
   "source": [
    "f = open('SI/BEEF_free_energy.pkl','rb')\n",
    "beef_free_eng = pickle.load(f)\n",
    "\n",
    "f = open('SI/HSE_free_energy.pkl','rb')\n",
    "hse_free_eng = pickle.load(f)\n",
    "\n",
    "f = open('SI/BEEF_pathway_ensemble.pkl','rb')\n",
    "ensemble = pickle.load(f)\n"
   ]
  },
  {
   "cell_type": "markdown",
   "metadata": {},
   "source": [
    "### generate 'SI/energy-table.tex'"
   ]
  },
  {
   "cell_type": "code",
   "execution_count": 27,
   "metadata": {},
   "outputs": [
    {
     "name": "stdout",
     "output_type": "stream",
     "text": [
      "NH$_{3}$ at top active site\n",
      "NH$_{2}$ at top active site\n",
      "N$_{2}$H at top active site\n",
      "N$_{2}$H$_{2}$ at top active site\n",
      "H$_{2}$NNH$_{2}$ at top active site\n",
      "H$_{2}$NNH at top active site\n",
      "N$_{2}$ at top active site\n"
     ]
    }
   ],
   "source": [
    "cap = 'Energies of all species used relative to the slab, H$_2$, N$_2$ and O$_2$ at 0K (ZPE included)'\n",
    "f = open('SI/energy-table.tex','w+')\n",
    "f.write('\\\\clearpage\\n\\\\begin{center}\\n\\\\renewcommand*{\\\\arraystretch}{1.3}\\n\\\\begin{longtable}{|m{5.8cm} |m{2.9cm}|m{2.9cm} |m{5.5cm} |} \\n\\caption{'+cap+'}\\n\\label{tab:energies}\\n\\endfirsthead\\n\\endhead\\n\\hline\\n')\n",
    "f.write('compound & HSE06 energy & BEEF energy  & ensemble standard deviation \\\\\\ \\hline\\ \\n')\n",
    "# potential_energy_dictionay\n",
    "n=0\n",
    "\n",
    "for item in SI_ingredients:\n",
    "    if '_g' in item:\n",
    "        continue\n",
    "    print(SI_labels[item]) \n",
    "    name = item.split('_')[0]\n",
    "    n+=1\n",
    "    f.write(SI_labels[item]+'&'+str(np.round(hse_free_eng[item],2))+'&'+str(np.round(beef_free_eng[item],2))+'&'+str(np.round((ensemble[item]['std']),2))+  '\\\\\\  \\n')\n",
    "for item in SI_ingredients:\n",
    "    if '_g' in item:\n",
    "        print(SI_labels[item]) \n",
    "        name = item.split('_')[0]\n",
    "        n+=1\n",
    "        f.write(SI_labels[item]+'&'+str(np.round(hse_free_eng[item],2))+'&'+str(np.round(beef_free_eng[item],2))+'&'+str(np.round((ensemble[item]['std']),2))+  '\\\\\\  \\n')\n",
    "\n",
    "    \n",
    "f.write(' \\hline \\end{longtable}\\n\\end{center}\\n')\n",
    "f.close()"
   ]
  },
  {
   "cell_type": "markdown",
   "metadata": {},
   "source": [
    "### generate 'vib-table.tex'"
   ]
  },
  {
   "cell_type": "code",
   "execution_count": 45,
   "metadata": {},
   "outputs": [],
   "source": [
    "f = open('SI/species_definitions.pkl', 'rb')\n",
    "species_definitions =  pickle.load(f)\n",
    "vib_dictionary = {}\n",
    "for item in SI_ingredients:\n",
    "    if item == 'H_g':\n",
    "        continue\n",
    "    freq = (species_definitions[item]['frequencies'])\n",
    "    new_freq = []\n",
    "    for v in freq:\n",
    "        new_freq.append(str(round(v*1e3,1)))\n",
    "    frequencies = '\\parbox[t]{6cm}{'\n",
    "    max_freqs = 3\n",
    "    while new_freq:\n",
    "        freq_subset = [new_freq.pop(0) for i in range(0,max_freqs) if new_freq]\n",
    "        frequencies += ', '.join(freq_subset)+r'\\\\'\n",
    "#         print(frequencies)\n",
    "    frequencies = frequencies[:-2] + '}'\n",
    "    frequencies\n",
    "    vib_dictionary[item]=frequencies\n",
    "# vib_dictionary"
   ]
  },
  {
   "cell_type": "code",
   "execution_count": 47,
   "metadata": {},
   "outputs": [
    {
     "name": "stdout",
     "output_type": "stream",
     "text": [
      "NH$_{3}$ at top active site\n",
      "NH$_{2}$ at top active site\n",
      "N$_{2}$H at top active site\n",
      "N$_{2}$H$_{2}$ at top active site\n",
      "H$_{2}$NNH$_{2}$ at top active site\n",
      "H$_{2}$NNH at top active site\n",
      "N$_{2}$ at top active site\n"
     ]
    }
   ],
   "source": [
    "# f = open('SI/converged_bulk_vib.pkl','rb')\n",
    "# ads_slab_vib_dictionary = pickle.load(f)['ads_slab']\n",
    "\n",
    "\n",
    "cap = 'Vibrational frequencies of all species'\n",
    "f = open('SI/vibration-table.tex','w+')\n",
    "f.write('\\\\clearpage\\n\\\\begin{center}\\n\\\\renewcommand*{\\\\arraystretch}{2}\\n\\\\begin{longtable}{|m{6cm} |m{6cm} |} \\n\\caption{'+cap+'}\\n\\label{tab:energies}\\n\\endfirsthead\\n\\endhead\\n\\hline\\n')\n",
    "f.write('compound & Vibrational Frequencies (cm$^{-1}$) \\\\\\ \\hline\\ \\n')\n",
    "# potential_energy_dictionay\n",
    "n=0\n",
    "\n",
    "for item in SI_ingredients:\n",
    "    if '_g' in item and item != 'H_g':\n",
    "#         continue\n",
    "        print(SI_labels[item]) \n",
    "        name = item.split('_')[0]\n",
    "        n+=1\n",
    "        f.write(SI_labels[item]+'&'+vib_dictionary[item]+'\\\\\\ \\hline \\\\n ')\n",
    "for item in SI_ingredients:\n",
    "    if not '_g' in item:\n",
    "        print(SI_labels[item]) \n",
    "        name = item.split('_')[0]\n",
    "        n+=1\n",
    "        f.write(SI_labels[item]+'&'+vib_dictionary[item]+'\\\\\\ \\hline \\\\n ')\n",
    "        \n",
    "f.write(' \\end{longtable}\\n\\end{center}\\n')\n",
    "f.close()\n"
   ]
  },
  {
   "cell_type": "markdown",
   "metadata": {},
   "source": [
    "### generate surface pic from 'converged.traj'"
   ]
  },
  {
   "cell_type": "code",
   "execution_count": 54,
   "metadata": {},
   "outputs": [
    {
     "name": "stdout",
     "output_type": "stream",
     "text": [
      "SI/BEEF_converged_bulk_spin_pol/ads_slab/NH3\n",
      "NH3\n",
      "SI/BEEF_converged_bulk_spin_pol/ads_slab/NH2\n",
      "NH2\n",
      "SI/BEEF_converged_bulk_spin_pol/ads_slab/N2H\n",
      "N2H\n",
      "SI/BEEF_converged_bulk_spin_pol/ads_slab/N2H2\n",
      "N2H2\n",
      "SI/BEEF_converged_bulk_spin_pol/ads_slab/H2NNH2\n",
      "H2NNH2\n",
      "SI/BEEF_converged_bulk_spin_pol/ads_slab/H2NNH\n",
      "H2NNH\n",
      "SI/BEEF_converged_bulk_spin_pol/ads_slab/N2\n",
      "N2\n"
     ]
    }
   ],
   "source": [
    "from ase import io\n",
    "import os\n",
    "kwargs = {\n",
    "  #  'rotation'      : rot, # text string with rotation (default='' )\n",
    "    'radii'         : .85, # float, or a list with one float per atom\n",
    "    'colors'        : None,# List: one (r, g, b) tuple per atom\n",
    "    'show_unit_cell': 0,   # 0, 1, or 2 to not show, show, and show all of cell\n",
    "    \n",
    "    }\n",
    "\n",
    "# Extra kwargs only available for povray (All units in angstrom)\n",
    "kwargs.update({\n",
    "    'run_povray'   : True, # Run povray or just write .pov + .ini files\n",
    "#     'display'      : False,# Display while rendering\n",
    "#     'pause'        : True, # Pause when done rendering (only if display)\n",
    "    'transparent'  : False,# Transparent background\n",
    "    'canvas_width' : None, # Width of canvas in pixels\n",
    "    'canvas_height': 750, # Height of canvas in pixels \n",
    "    'camera_dist'  : 50.,  # Distance from camera to front atom\n",
    "    'image_plane'  : None, # Distance from front atom to image plane\n",
    "    'camera_type'  : 'perspective', # perspective, ultra_wide_angle\n",
    "    'point_lights' : [],             # [[loc1, color1], [loc2, color2],...]\n",
    "    'area_light'   : [(2., 3., 40.), # location\n",
    "                      'White',       # color\n",
    "                      .7, .7, 3, 3], # width, height, Nlamps_x, Nlamps_y\n",
    "    'background'   : 'White',        # color\n",
    "    'textures'     : None, # Length of atoms list of texture names\n",
    "    'celllinewidth': 0.1,  # Radius of the cylinders representing the cell\n",
    "    \n",
    "    })\n",
    "\n",
    "\n",
    "def make_pics(path,fancy=True):\n",
    "    name=path.split('/')[-1]\n",
    "    print(name)\n",
    "    slb = io.read(path+'/converged.traj')\n",
    "    if not os.path.exists('SI/surface_pic/'):\n",
    "        os.mkdir('SI/surface_pic/')\n",
    "    if fancy == True:\n",
    "        io.write('SI/surface_pic/'+name+'-top.pov',slb,**kwargs)\n",
    "        io.write('SI/surface_pic/'+name+'-xside.pov',slb,rotation='-90x',**kwargs)\n",
    "        print('lol')\n",
    "    else:\n",
    "        io.write('SI/surface_pic/'+name+'-top.png',slb)\n",
    "        io.write('SI/surface_pic/'+name+'-xside.png',slb,rotation='-90x')\n",
    " \n",
    "for label in SI_ingredients:\n",
    "    if '_g' not in label:\n",
    "        path = 'SI/BEEF_converged_bulk_spin_pol/ads_slab/' + label.split('_')[0]\n",
    "        print(path)\n",
    "        make_pics(path,fancy=False)\n",
    "        \n",
    "# path = 'SI/BEEF_converged_bulk_spin_pol/ads_slab'\n",
    "# make_pics(path,fancy=False)\n"
   ]
  },
  {
   "cell_type": "markdown",
   "metadata": {},
   "source": [
    "### generate surface pic table"
   ]
  },
  {
   "cell_type": "code",
   "execution_count": 60,
   "metadata": {},
   "outputs": [
    {
     "data": {
      "text/plain": [
       "39"
      ]
     },
     "execution_count": 60,
     "metadata": {},
     "output_type": "execute_result"
    }
   ],
   "source": [
    "cap = 'Calculated equilibrium geometries for all species.'\n",
    "f = open('SI/pic-table.tex','w')\n",
    "f.write('\\\\clearpage\\n\\\\begin{center}\\n\\\\begin{longtable}{| m{4.5cm} | m{5cm} | m{4.5cm} |}\\caption{'+cap+'}\\n\\label{tab:pic}\\n\\endfirsthead\\n\\endhead\\n\\hline\\n')\n",
    "f.write('compound & Top View & Side View')\n",
    "\n",
    "for item in SI_ingredients:\n",
    "    if not '_g' in item:\n",
    "        name = item.split('_')[0]\n",
    "        f.write(' \\\\\\ \\hline\\ \\n'+SI_labels[item]+'&'+'\\makecell{  \\includegraphics[width=0.30\\\\textwidth, height=38mm]{surface_pathway/'+name+'-top.png}}'\n",
    "       +'&'+'\\makecell{  \\includegraphics[width=0.15\\\\textwidth, height=85mm]{surface_pathway/'+name+'-xside.png}}'\n",
    "       )\n",
    "        \n",
    "f.write(' \\\\\\ \\hline \\end{longtable}\\n\\end{center}')\n",
    "\n",
    "# SI_ingredients\n",
    "# ACS_SI_ingredients\n"
   ]
  },
  {
   "cell_type": "code",
   "execution_count": null,
   "metadata": {},
   "outputs": [],
   "source": []
  }
 ],
 "metadata": {
  "kernelspec": {
   "display_name": "Python 3",
   "language": "python",
   "name": "python3"
  },
  "language_info": {
   "codemirror_mode": {
    "name": "ipython",
    "version": 3
   },
   "file_extension": ".py",
   "mimetype": "text/x-python",
   "name": "python",
   "nbconvert_exporter": "python",
   "pygments_lexer": "ipython3",
   "version": "3.7.6"
  }
 },
 "nbformat": 4,
 "nbformat_minor": 4
}
