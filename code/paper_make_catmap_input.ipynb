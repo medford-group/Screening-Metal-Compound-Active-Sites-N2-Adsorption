{
 "cells": [
  {
   "cell_type": "code",
   "execution_count": null,
   "metadata": {},
   "outputs": [],
   "source": [
    "from ase.build import surface, add_adsorbate, molecule\n",
    "from ase.spacegroup import crystal\n",
    "from ase.visualize import view\n",
    "from ase.io.trajectory import TrajectoryReader\n",
    "import os\n",
    "from ase.io import read\n",
    "import matplotlib.pyplot as plt\n",
    "import sys\n",
    "from ase.symbols import string2symbols\n",
    "import pickle\n",
    "%matplotlib inline"
   ]
  },
  {
   "cell_type": "markdown",
   "metadata": {},
   "source": [
    "## Eng to pickle: \n",
    "1. Potential energies to a dictionary (O2, N2, and H2 as reference)\n",
    "2. Turn dictionary to a pickle file\n",
    "3. Each pickle file corresponds to ref, ads_slab and slab"
   ]
  },
  {
   "cell_type": "markdown",
   "metadata": {},
   "source": [
    "#### ads_slab and slab, grab lowest energy state from spin paired vs pol\n"
   ]
  },
  {
   "cell_type": "code",
   "execution_count": null,
   "metadata": {},
   "outputs": [],
   "source": [
    "with open('../pickle_files/HSE_converged_bulk_binding.pkl', 'rb') as handle:\n",
    "    ads_formation_energy_spin_pair = pickle.load(handle)\n",
    "handle.close()\n",
    "\n",
    "sorted_keys = sorted(ads_formation_energy_spin_pair)\n"
   ]
  },
  {
   "cell_type": "markdown",
   "metadata": {},
   "source": [
    "#### reference"
   ]
  },
  {
   "cell_type": "code",
   "execution_count": null,
   "metadata": {},
   "outputs": [],
   "source": [
    "def update_reference_eng(reference):\n",
    "    reference['H'] = 0.5*reference['H2']\n",
    "    reference['N'] = 0.5*reference['N2']\n",
    "    reference['O'] = reference['O2'] /2\n",
    "    return reference\n",
    "\n",
    "with open('../pickle_files/reference_HSE.pkl', 'rb') as handle:\n",
    "    reference_dict = pickle.load(handle)\n",
    "handle.close()\n",
    "\n",
    "reference_dict = reference_dict['reference']\n",
    "reference_dict = update_reference_eng(reference_dict)\n",
    "reference_dict.pop('N2H4')\n",
    "reference_dict.pop('N2H2')\n",
    "\n",
    "\n",
    "def get_ref_formation_energy(reference_dict):\n",
    "    formation_energyies = {} \n",
    "    for key in reference_dict:\n",
    "        if key == 'slab':\n",
    "            continue\n",
    "        E0 = reference_dict[key]\n",
    "        composition = string2symbols(key)\n",
    "        for atom in composition:\n",
    "            E0 -= reference_dict[atom]\n",
    "        E0 = round(E0,3)\n",
    "        formation_energyies[key] = E0\n",
    "    return formation_energyies\n",
    "ref_formation_energy = get_ref_formation_energy(reference_dict)\n",
    "ref_formation_energy.pop('N')\n",
    "ref_formation_energy.pop('H')\n",
    "ref_formation_energy.pop('O')\n"
   ]
  },
  {
   "cell_type": "markdown",
   "metadata": {},
   "source": [
    "#### vib energy files: ads_slab and reference"
   ]
  },
  {
   "cell_type": "code",
   "execution_count": null,
   "metadata": {},
   "outputs": [],
   "source": [
    "with open('../pickle_files/converged_bulk_vib.pkl', 'rb') as handle:\n",
    "    vib = pickle.load(handle)\n",
    "handle.close()\n",
    "ads_vib = vib['ads_slab']\n",
    "slab_vib = vib['slab']\n",
    "vib_dict = {**slab_vib, **ads_vib}\n",
    "vib_dict['H'] = []\n",
    "\n",
    "\n",
    "with open('../pickle_files/reference_vib.pkl', 'rb') as handle:\n",
    "    vib = pickle.load(handle)\n",
    "handle.close()\n",
    "ref_vib = vib['reference']\n",
    "ref_vib.pop('N2H4')\n",
    "ref_vib.pop('N2H2')\n",
    "# ref_vib['H'] = []\n"
   ]
  },
  {
   "cell_type": "markdown",
   "metadata": {},
   "source": [
    "### Write to CATMAP compatible text file"
   ]
  },
  {
   "cell_type": "code",
   "execution_count": null,
   "metadata": {},
   "outputs": [],
   "source": [
    "def make_input_file(file_name, sorted_keys,ref_formation_energies,ads_slab_formation_energies,ads_slab_vib_dict,ref_vib_dict):\n",
    "    #create a header\n",
    "    header = '\\t'.join(['surface_name','site_name',\n",
    "                        'species_name','formation_energy',\n",
    "                        'frequencies','reference'])\n",
    "    lines = [] #list of lines in the output\n",
    "    for key in ref_formation_energies.keys(): #iterate through keys\n",
    "        E = ref_formation_energies[key] #raw energy\n",
    "        site = 'gas'\n",
    "        surface = 'None'\n",
    "        frequency = ref_vib_dict[key]\n",
    "        name = key\n",
    "        outline = [surface,site,name,E,frequency,'']\n",
    "        line = '\\t'.join([str(w) for w in outline])\n",
    "        lines.append(line)\n",
    "    for key in sorted_keys:#ads_slab_formation_energies.keys(): #iterate through keys\n",
    "        E = ads_slab_formation_energies[key] #raw energy\n",
    "        site = '152'\n",
    "        surface = 'slab'\n",
    "        frequency = ads_slab_vib_dict[key]\n",
    "        name = key\n",
    "        outline = [surface,site,name,E,frequency,'']\n",
    "        line = '\\t'.join([str(w) for w in outline])\n",
    "        lines.append(line)\n",
    "    lines = [header] + lines\n",
    "    input_file = '\\n'.join(lines)\n",
    "    input = open(file_name,'w') #open the file name in write mode\n",
    "    input.write(input_file) #write the text\n",
    "    input.close() #close the file\n",
    "    print('Successfully created input file')\n",
    "    \n",
    "make_input_file('HSE_catmap_model.txt',sorted_keys,ref_formation_energy,ads_formation_energy,vib_dict,ref_vib)\n"
   ]
  },
  {
   "cell_type": "code",
   "execution_count": null,
   "metadata": {},
   "outputs": [],
   "source": []
  },
  {
   "cell_type": "code",
   "execution_count": null,
   "metadata": {},
   "outputs": [],
   "source": []
  }
 ],
 "metadata": {
  "kernelspec": {
   "display_name": "Python 3",
   "language": "python",
   "name": "python3"
  },
  "language_info": {
   "codemirror_mode": {
    "name": "ipython",
    "version": 3
   },
   "file_extension": ".py",
   "mimetype": "text/x-python",
   "name": "python",
   "nbconvert_exporter": "python",
   "pygments_lexer": "ipython3",
   "version": "3.7.6"
  }
 },
 "nbformat": 4,
 "nbformat_minor": 4
}
